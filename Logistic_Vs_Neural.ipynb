{
  "nbformat": 4,
  "nbformat_minor": 0,
  "metadata": {
    "colab": {
      "provenance": [],
      "include_colab_link": true
    },
    "kernelspec": {
      "name": "python3",
      "display_name": "Python 3"
    },
    "language_info": {
      "name": "python"
    }
  },
  "cells": [
    {
      "cell_type": "markdown",
      "metadata": {
        "id": "view-in-github",
        "colab_type": "text"
      },
      "source": [
        "<a href=\"https://colab.research.google.com/github/Abdu1964/G6/blob/main/Logistic_Vs_Neural.ipynb\" target=\"_parent\"><img src=\"https://colab.research.google.com/assets/colab-badge.svg\" alt=\"Open In Colab\"/></a>"
      ]
    },
    {
      "cell_type": "markdown",
      "source": [
        "# **COMPARISON BETWEEN LOGISTIC REGRESSION AND NEURAL NETWORK**\n",
        "\n",
        "The project is credit card risk assessment and it uses the German Credit Risk dataset, which classifies customers as good or bad credit risks based on attributes like credit history, employment duration, loan amount, and other personal factors.\n",
        "\n",
        "the dataset can be found on \"https://archive.ics.uci.edu/ml/machine-learning-databases/statlog/german/german.data\""
      ],
      "metadata": {
        "id": "0KKMx3sQ1K3f"
      }
    },
    {
      "cell_type": "code",
      "execution_count": null,
      "metadata": {
        "id": "R1AyutkD1IaQ"
      },
      "outputs": [],
      "source": [
        "import numpy as np\n",
        "import pandas as pd\n",
        "import matplotlib.pyplot as plt\n",
        "import seaborn as sns\n",
        "from sklearn.model_selection import train_test_split\n",
        "from sklearn.preprocessing  import StandardScaler, OneHotEncoder\n",
        "from sklearn.compose import ColumnTransformer\n",
        "from sklearn.pipeline import Pipeline\n",
        "from sklearn.linear_model import LogisticRegression\n",
        "from sklearn.metrics import accuracy_score, precision_score, recall_score, f1_score, confusion_matrix, classification_report\n",
        "from sklearn.impute import SimpleImputer"
      ]
    },
    {
      "cell_type": "code",
      "source": [
        "import torch\n",
        "import torch.nn as nn\n",
        "import torch.optim as optim\n",
        "from torch.utils.data import Dataset, DataLoader, TensorDataset"
      ],
      "metadata": {
        "id": "btA0XWReGFzd"
      },
      "execution_count": null,
      "outputs": []
    },
    {
      "cell_type": "markdown",
      "source": [
        "* give the same seed for models to have the same random sequence for fair comparison"
      ],
      "metadata": {
        "id": "mPlKiqHGzXl0"
      }
    },
    {
      "cell_type": "code",
      "source": [
        "np.random.seed(42)\n",
        "torch.manual_seed(42)"
      ],
      "metadata": {
        "colab": {
          "base_uri": "https://localhost:8080/"
        },
        "id": "xp47muWdHEXB",
        "outputId": "da805eab-2524-423f-cff0-09499e87a3b9"
      },
      "execution_count": null,
      "outputs": [
        {
          "output_type": "execute_result",
          "data": {
            "text/plain": [
              "<torch._C.Generator at 0x7a1ebfe62ef0>"
            ]
          },
          "metadata": {},
          "execution_count": 4
        }
      ]
    },
    {
      "cell_type": "markdown",
      "source": [
        "**Load the dataset**"
      ],
      "metadata": {
        "id": "JvY9Wwfszgyt"
      }
    },
    {
      "cell_type": "code",
      "source": [
        "url = \"https://archive.ics.uci.edu/ml/machine-learning-databases/statlog/german/german.data\"\n",
        "column_names = [\n",
        "    'status', 'duration', 'credit_history', 'purpose', 'amount',\n",
        "    'savings', 'employment_duration', 'installment_rate', 'personal_status_sex',\n",
        "    'other_debtors', 'present_residence', 'property', 'age', 'other_installment_plans',\n",
        "    'housing', 'existing_credits', 'job', 'num_dependents', 'telephone', 'foreign_worker', 'class'\n",
        "]\n",
        "\n",
        "# Load the data\n",
        "df = pd.read_csv(url, sep=' ', header=None, names=column_names)\n",
        "# convert target to binary: 1 = good, 2 = bad -> 0 = good, 1 = bad\n",
        "df['class'] = df['class'].map({1: 0, 2: 1})\n",
        "\n",
        "\n",
        "# basic information about the dataset\n",
        "print(\"\\nDataset Information:\")\n",
        "print(f\"Number of samples: {df.shape[0]}\")\n",
        "print(f\"Number of features: {df.shape[1] - 1}\")\n",
        "print(\"\\nFeature names:\")\n",
        "print(df.columns.tolist())\n",
        "print(\"\\nClass distribution:\")\n",
        "print(df['class'].value_counts())\n",
        "print(\"\\nClass balance percentage:\")\n",
        "print(df['class'].value_counts(normalize=True) * 100)\n",
        "# print(\"\\nFirst 5 rows of the dataset:\")\n",
        "# print(df.head())"
      ],
      "metadata": {
        "colab": {
          "base_uri": "https://localhost:8080/"
        },
        "id": "a3mx6t-KyAEp",
        "outputId": "1bbe838c-4c56-4c63-b15f-88e0150a5c1e"
      },
      "execution_count": null,
      "outputs": [
        {
          "output_type": "stream",
          "name": "stdout",
          "text": [
            "\n",
            "Dataset Information:\n",
            "Number of samples: 1000\n",
            "Number of features: 20\n",
            "\n",
            "Feature names:\n",
            "['status', 'duration', 'credit_history', 'purpose', 'amount', 'savings', 'employment_duration', 'installment_rate', 'personal_status_sex', 'other_debtors', 'present_residence', 'property', 'age', 'other_installment_plans', 'housing', 'existing_credits', 'job', 'num_dependents', 'telephone', 'foreign_worker', 'class']\n",
            "\n",
            "Class distribution:\n",
            "class\n",
            "0    700\n",
            "1    300\n",
            "Name: count, dtype: int64\n",
            "\n",
            "Class balance percentage:\n",
            "class\n",
            "0    70.0\n",
            "1    30.0\n",
            "Name: proportion, dtype: float64\n"
          ]
        }
      ]
    },
    {
      "cell_type": "markdown",
      "source": [
        "**Preprocess**"
      ],
      "metadata": {
        "id": "v2dBxlQK4ERy"
      }
    },
    {
      "cell_type": "code",
      "source": [
        "# separate features and class\n",
        "X = df.drop('class', axis=1)\n",
        "y = df['class']\n",
        "\n",
        "#identify numeric and categorical columns\n",
        "numeric_features = X.select_dtypes(include=['int64', 'float64']).columns.tolist()\n",
        "categorical_features = X.select_dtypes(include=['object']).columns.tolist()\n",
        "\n",
        "print(f\"Numeric features: {numeric_features}\")\n",
        "print(f\"Categorical features: {categorical_features}\")\n",
        "\n",
        "# fill missing values for the numerical features\n",
        "# using simple imputer's median startegy then scale the feature\n",
        "# using standard\n",
        "numeric_transformer = Pipeline(steps=[\n",
        "    ('imputer', SimpleImputer(strategy='median')),\n",
        "    ('scaler', StandardScaler())\n",
        "])\n",
        "\n",
        "# fill missing values for the catagorical features\n",
        "# using simple imputer's most_frequent startegy then convert\n",
        "# the catagorical features to on numbers using one hot encoding\n",
        "\n",
        "categorical_transformer = Pipeline(steps=[\n",
        "    ('imputer', SimpleImputer(strategy='most_frequent')),\n",
        "    ('onehot', OneHotEncoder(handle_unknown='ignore'))\n",
        "])\n",
        "\n",
        "# Combine preprocessing steps\n",
        "preprocessor = ColumnTransformer(\n",
        "    transformers=[\n",
        "        ('num', numeric_transformer, numeric_features),\n",
        "        ('cat', categorical_transformer, categorical_features)\n",
        "])\n",
        "\n",
        "# split the data using 80/20\n",
        "X_train, X_test, y_train, y_test = train_test_split(X, y, test_size=0.2, random_state=42, stratify=y)\n",
        "\n",
        "print(f\"Training set size: {X_train.shape[0]}\")\n",
        "print(f\"Testing set size: {X_test.shape[0]}\")\n",
        "\n",
        "# Apply preprocessing to the training and testing data\n",
        "X_train_processed = preprocessor.fit_transform(X_train)\n",
        "X_test_processed = preprocessor.transform(X_test)\n",
        "\n",
        "# Get the number of features after preprocessing (needed for the neural network input size)\n",
        "n_features = X_train_processed.shape[1]\n",
        "print(f\"Number of features after preprocessing: {n_features}\")"
      ],
      "metadata": {
        "colab": {
          "base_uri": "https://localhost:8080/"
        },
        "id": "c1wqZXTA3qZ_",
        "outputId": "bd30158b-81b7-486e-e320-76808d034081"
      },
      "execution_count": null,
      "outputs": [
        {
          "output_type": "stream",
          "name": "stdout",
          "text": [
            "Numeric features: ['duration', 'amount', 'installment_rate', 'present_residence', 'age', 'existing_credits', 'num_dependents']\n",
            "Categorical features: ['status', 'credit_history', 'purpose', 'savings', 'employment_duration', 'personal_status_sex', 'other_debtors', 'property', 'other_installment_plans', 'housing', 'job', 'telephone', 'foreign_worker']\n",
            "Training set size: 800\n",
            "Testing set size: 200\n",
            "Number of features after preprocessing: 61\n"
          ]
        }
      ]
    },
    {
      "cell_type": "markdown",
      "source": [
        "**Train a scikit-learn Logistic regression model**"
      ],
      "metadata": {
        "id": "Bj3WbdbGDIK6"
      }
    },
    {
      "cell_type": "code",
      "source": [
        "# try models with different C values\n",
        "c_values = [0.01, 0.1, 1, 10]\n",
        "lr_models = {}\n",
        "\n",
        "print(\"\\nEvaluating Logistic Regression models with different C values:\")\n",
        "best_f1 = 0\n",
        "best_c = None\n",
        "\n",
        "for c in c_values:\n",
        "    print(f\"\\nTraining and evaluating with C = {c}\")\n",
        "    lr_model = LogisticRegression(C=c, max_iter=1000, random_state=42)\n",
        "    lr_model.fit(X_train_processed, y_train)\n",
        "    lr_models[c] = lr_model\n",
        "\n",
        "    # predict\n",
        "    y_pred = lr_model.predict(X_test_processed)\n",
        "\n",
        "    # Calculate performance metrics\n",
        "    accuracy = accuracy_score(y_test, y_pred)\n",
        "    precision = precision_score(y_test, y_pred)\n",
        "    recall = recall_score(y_test, y_pred)\n",
        "    f1 = f1_score(y_test, y_pred)\n",
        "\n",
        "    print(f\"Accuracy: {accuracy:.4f}\")\n",
        "    print(f\"Precision: {precision:.4f}\")\n",
        "    print(f\"Recall: {recall:.4f}\")\n",
        "    print(f\"F1 Score: {f1:.4f}\")\n",
        "\n",
        "    # check the best model based on F1 score\n",
        "    if f1 > best_f1:\n",
        "        best_f1 = f1\n",
        "        best_c = c\n",
        "\n",
        "print(f\"\\nBest C value based on F1 score: {best_c}\")\n",
        "lr_model = lr_models[best_c]\n",
        "\n",
        "# Make predictions on the test set with the best model\n",
        "y_pred_lr = lr_model.predict(X_test_processed)"
      ],
      "metadata": {
        "colab": {
          "base_uri": "https://localhost:8080/"
        },
        "id": "XyPHNtgtC6FL",
        "outputId": "b847bece-7231-4325-a9ad-ed2bd2616148"
      },
      "execution_count": null,
      "outputs": [
        {
          "output_type": "stream",
          "name": "stdout",
          "text": [
            "\n",
            "Evaluating Logistic Regression models with different C values:\n",
            "\n",
            "Training and evaluating with C = 0.01\n",
            "Accuracy: 0.7400\n",
            "Precision: 0.7857\n",
            "Recall: 0.1833\n",
            "F1 Score: 0.2973\n",
            "\n",
            "Training and evaluating with C = 0.1\n",
            "Accuracy: 0.7900\n",
            "Precision: 0.7143\n",
            "Recall: 0.5000\n",
            "F1 Score: 0.5882\n",
            "\n",
            "Training and evaluating with C = 1\n",
            "Accuracy: 0.7800\n",
            "Precision: 0.6667\n",
            "Recall: 0.5333\n",
            "F1 Score: 0.5926\n",
            "\n",
            "Training and evaluating with C = 10\n",
            "Accuracy: 0.7750\n",
            "Precision: 0.6364\n",
            "Recall: 0.5833\n",
            "F1 Score: 0.6087\n",
            "\n",
            "Best C value based on F1 score: 10\n"
          ]
        }
      ]
    },
    {
      "cell_type": "markdown",
      "source": [
        "**Train the pytorch neural network**"
      ],
      "metadata": {
        "id": "muAHQtGaI_LJ"
      }
    },
    {
      "cell_type": "code",
      "source": [
        "X_train_tensor = torch.FloatTensor(X_train_processed.toarray() if hasattr(X_train_processed, 'toarray') else X_train_processed)\n",
        "X_test_tensor = torch.FloatTensor(X_test_processed.toarray() if hasattr(X_test_processed, 'toarray') else X_test_processed)\n",
        "\n",
        "y_train_tensor = torch.FloatTensor(y_train.values).float()\n",
        "y_test_tensor = torch.FloatTensor(y_test.values).float()\n",
        "\n",
        "# Check if labels are not in [0,1] range and normalize them if needed\n",
        "if (y_train_tensor > 1).any() or (y_train_tensor < 0).any():\n",
        "    # If labels are something like -1/1 or other values, convert to 0/1\n",
        "    y_train_tensor = (y_train_tensor > 0).float()\n",
        "    y_test_tensor = (y_test_tensor > 0).float()\n",
        "\n",
        "train_dataset = TensorDataset(X_train_tensor, y_train_tensor)\n",
        "train_loader = DataLoader(train_dataset, batch_size=32, shuffle=True)\n",
        "\n",
        "# the neural network\n",
        "class CreditRiskNN(nn.Module):\n",
        "    def __init__(self, input_size):\n",
        "        super(CreditRiskNN, self).__init__()\n",
        "        self.layer1 = nn.Linear(input_size, 64)\n",
        "        self.relu = nn.ReLU()\n",
        "        self.layer2 = nn.Linear(64, 32)\n",
        "        self.layer3 = nn.Linear(32, 1)\n",
        "        self.sigmoid = nn.Sigmoid()\n",
        "\n",
        "    def forward(self, x):\n",
        "        x = self.layer1(x)\n",
        "        x = self.relu(x)\n",
        "        x = self.layer2(x)\n",
        "        x = self.relu(x)\n",
        "        x = self.layer3(x)\n",
        "        x = self.sigmoid(x)\n",
        "        return x\n",
        "\n",
        "model = CreditRiskNN(input_size=n_features)\n",
        "criterion = nn.BCELoss()\n",
        "optimizer = optim.Adam(model.parameters(), lr=0.001)\n",
        "\n",
        "\n",
        "num_epochs = 100\n",
        "loss_values = []\n",
        "\n",
        "for epoch in range(num_epochs):\n",
        "    model.train()\n",
        "    running_loss = 0.0\n",
        "\n",
        "    for inputs, labels in train_loader:\n",
        "        outputs = model(inputs).squeeze()\n",
        "        labels = labels.float()\n",
        "\n",
        "        # Double-check that labels are between 0 and 1\n",
        "        if (labels > 1).any() or (labels < 0).any():\n",
        "            labels = (labels > 0).float()\n",
        "\n",
        "        loss = criterion(outputs, labels)\n",
        "\n",
        "        optimizer.zero_grad()\n",
        "        loss.backward()\n",
        "        optimizer.step()\n",
        "\n",
        "        running_loss += loss.item()\n",
        "\n",
        "    epoch_loss = running_loss / len(train_loader)\n",
        "    loss_values.append(epoch_loss)\n",
        "\n",
        "    if (epoch + 1) % 10 == 0:\n",
        "        print(f'Epoch [{epoch+1}/{num_epochs}], Loss: {epoch_loss:.6f}')\n",
        "model.eval()\n",
        "with torch.no_grad():\n",
        "    y_pred_prob_nn = model(X_test_tensor).squeeze().numpy()\n",
        "    y_pred_nn = (y_pred_prob_nn > 0.5).astype(int)"
      ],
      "metadata": {
        "colab": {
          "base_uri": "https://localhost:8080/"
        },
        "id": "i_lKFpZNIWIw",
        "outputId": "e4bd08cc-4264-40ae-e50c-31f2ec89c0ef"
      },
      "execution_count": null,
      "outputs": [
        {
          "output_type": "stream",
          "name": "stdout",
          "text": [
            "Epoch [10/100], Loss: 0.427703\n",
            "Epoch [20/100], Loss: 0.277739\n",
            "Epoch [30/100], Loss: 0.128554\n",
            "Epoch [40/100], Loss: 0.056966\n",
            "Epoch [50/100], Loss: 0.020806\n",
            "Epoch [60/100], Loss: 0.009878\n",
            "Epoch [70/100], Loss: 0.005280\n",
            "Epoch [80/100], Loss: 0.003223\n",
            "Epoch [90/100], Loss: 0.002083\n",
            "Epoch [100/100], Loss: 0.001529\n"
          ]
        }
      ]
    },
    {
      "cell_type": "markdown",
      "source": [
        "**Model evaluation function definition**"
      ],
      "metadata": {
        "id": "Xwe4iHu_V5zu"
      }
    },
    {
      "cell_type": "code",
      "source": [
        "def evaluate_model(y_true, y_pred, model_name):\n",
        "    accuracy = accuracy_score(y_true, y_pred)\n",
        "    precision = precision_score(y_true, y_pred)\n",
        "    recall = recall_score(y_true, y_pred)\n",
        "    f1 = f1_score(y_true, y_pred)\n",
        "    cm = confusion_matrix(y_true, y_pred)\n",
        "\n",
        "    print(f\"\\n{model_name} Metrics:\")\n",
        "    print(f\"Accuracy: {accuracy:.4f}\")\n",
        "    print(f\"Precision: {precision:.4f}\")\n",
        "    print(f\"Recall: {recall:.4f}\")\n",
        "    print(f\"F1 Score: {f1:.4f}\")\n",
        "\n",
        "    print(\"\\nConfusion Matrix:\")\n",
        "    print(cm)\n",
        "\n",
        "\n",
        "    # Plot confusion matrix\n",
        "    plt.figure(figsize=(8, 6))\n",
        "    sns.heatmap(cm, annot=True, fmt='d', cmap='Blues',\n",
        "                xticklabels=['Good Credit', 'Bad Credit'],\n",
        "                yticklabels=['Good Credit', 'Bad Credit'])\n",
        "    plt.xlabel('Predicted')\n",
        "    plt.ylabel('Actual')\n",
        "    plt.title(f'Confusion Matrix - {model_name}')\n",
        "    plt.show()\n",
        "\n",
        "    return {\n",
        "        'accuracy': accuracy,\n",
        "        'precision': precision,\n",
        "        'recall': recall,\n",
        "        'f1': f1\n",
        "    }"
      ],
      "metadata": {
        "id": "4B6ziCX2VpM4"
      },
      "execution_count": null,
      "outputs": []
    },
    {
      "cell_type": "markdown",
      "source": [
        "**Actual evaluation**"
      ],
      "metadata": {
        "id": "-HbHLl6HWPQK"
      }
    },
    {
      "cell_type": "code",
      "source": [
        "lr_metrics = evaluate_model(y_test, y_pred_lr, \"Logistic Regression\")\n",
        "\n",
        "nn_metrics = evaluate_model(y_test, y_pred_nn, \"Neural Network\")\n",
        "\n",
        "# Compare models\n",
        "print(\"\\nComparing both models:\")\n",
        "\n",
        "metrics = ['accuracy', 'precision', 'recall', 'f1']\n",
        "model_names = ['Logistic Regression', 'Neural Network']\n",
        "lr_values = [lr_metrics[metric] for metric in metrics]\n",
        "nn_values = [nn_metrics[metric] for metric in metrics]\n",
        "\n",
        "# comparison bar chart\n",
        "plt.figure(figsize=(10, 6))\n",
        "x = np.arange(len(metrics))\n",
        "width = 0.35\n",
        "\n",
        "plt.bar(x - width/2, lr_values, width, label='Logistic Regression')\n",
        "plt.bar(x + width/2, nn_values, width, label='Neural Network')\n",
        "\n",
        "plt.xlabel('Metrics')\n",
        "plt.ylabel('Score')\n",
        "plt.title('Model Comparison')\n",
        "plt.xticks(x, metrics)\n",
        "plt.ylim(0, 1)\n",
        "plt.legend()\n",
        "plt.grid(axis='y', linestyle='--', alpha=0.7)\n",
        "plt.show()"
      ],
      "metadata": {
        "colab": {
          "base_uri": "https://localhost:8080/",
          "height": 1000
        },
        "id": "V5_JL33nWSJc",
        "outputId": "cf2fc11e-44bd-4ef7-f626-9e7bd3a3b722"
      },
      "execution_count": null,
      "outputs": [
        {
          "output_type": "stream",
          "name": "stdout",
          "text": [
            "\n",
            "Logistic Regression Metrics:\n",
            "Accuracy: 0.7750\n",
            "Precision: 0.6364\n",
            "Recall: 0.5833\n",
            "F1 Score: 0.6087\n",
            "\n",
            "Confusion Matrix:\n",
            "[[120  20]\n",
            " [ 25  35]]\n"
          ]
        },
        {
          "output_type": "display_data",
          "data": {
            "text/plain": [
              "<Figure size 800x600 with 2 Axes>"
            ],
            "image/png": "[encoded data removed]"
          },
          "metadata": {}
        },
        {
          "output_type": "stream",
          "name": "stdout",
          "text": [
            "\n",
            "Neural Network Metrics:\n",
            "Accuracy: 0.7850\n",
            "Precision: 0.6491\n",
            "Recall: 0.6167\n",
            "F1 Score: 0.6325\n",
            "\n",
            "Confusion Matrix:\n",
            "[[120  20]\n",
            " [ 23  37]]\n"
          ]
        },
        {
          "output_type": "display_data",
          "data": {
            "text/plain": [
              "<Figure size 800x600 with 2 Axes>"
            ],
            "image/png": "[encoded data removed]"
          },
          "metadata": {}
        },
        {
          "output_type": "stream",
          "name": "stdout",
          "text": [
            "\n",
            "Comparing both models:\n"
          ]
        },
        {
          "output_type": "display_data",
          "data": {
            "text/plain": [
              "<Figure size 1000x600 with 1 Axes>"
            ],
            "image/png": "[encoded data removed]"
          },
          "metadata": {}
        }
      ]
    },
    {
      "cell_type": "markdown",
      "source": [
        "1. **Logistic Regression (scikit-learn)**\n",
        "\n",
        "Implementation: Standard logistic regression with different regularization strengths (C values)\n",
        "\n",
        "2. **Neural Network (PyTorch)**\n",
        "\n",
        "Implementation: 3-layer network with ReLU activation\n",
        "\n",
        "Input layer → 64 neurons → 32 neurons → Output layer with sigmoid activation\n",
        "\n",
        "\n",
        "**Performance Metrics Comparison**\n",
        "\n",
        "Metric | Logistic-Regression| NeuralNetwork|\n",
        "\n",
        "Accuracy     |  0.775    |   0.785\n",
        "\n",
        "Precision    |  0.636    |   0.649\n",
        "\n",
        "Recall       |  0.583    |   0.617\n",
        "\n",
        "F1 Score     |  0.609     |   0.632\n",
        "\n",
        "\n",
        "**Regularization Effects (C Parameter)**\n",
        "\n",
        "Testing logistic regression with different C values (0.01, 0.1, 1, 10) revealed:\n",
        "\n",
        "1. Lower C values (stronger regularization): reduced recall\n",
        "2. Higher C values (weaker regularization): Improved recall but risked overfitting\n",
        "3. Optimal value: C=1 provided the best balance of precision and recall for this dataset"
      ],
      "metadata": {
        "id": "RMZEzFZveOw3"
      }
    }
  ]
}